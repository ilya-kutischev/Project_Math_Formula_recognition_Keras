{
 "cells": [
  {
   "cell_type": "code",
   "execution_count": 1,
   "id": "surrounded-testing",
   "metadata": {},
   "outputs": [
    {
     "ename": "MemoryError",
     "evalue": "cannot allocate memory for array",
     "output_type": "error",
     "traceback": [
      "\u001b[1;31m---------------------------------------------------------------------------\u001b[0m",
      "\u001b[1;31mMemoryError\u001b[0m                               Traceback (most recent call last)",
      "\u001b[1;32m<ipython-input-1-efccf7c967fd>\u001b[0m in \u001b[0;36m<module>\u001b[1;34m\u001b[0m\n\u001b[0;32m      1\u001b[0m \u001b[1;32mimport\u001b[0m \u001b[0mnumpy\u001b[0m \u001b[1;32mas\u001b[0m \u001b[0mnp\u001b[0m\u001b[1;33m\u001b[0m\u001b[1;33m\u001b[0m\u001b[0m\n\u001b[0;32m      2\u001b[0m \u001b[1;32mimport\u001b[0m \u001b[0mpandas\u001b[0m \u001b[1;32mas\u001b[0m \u001b[0mpd\u001b[0m\u001b[1;33m\u001b[0m\u001b[1;33m\u001b[0m\u001b[0m\n\u001b[1;32m----> 3\u001b[1;33m \u001b[0mx\u001b[0m \u001b[1;33m=\u001b[0m \u001b[0mnp\u001b[0m\u001b[1;33m.\u001b[0m\u001b[0mloadtxt\u001b[0m\u001b[1;33m(\u001b[0m\u001b[1;34m\"x.txt\"\u001b[0m\u001b[1;33m)\u001b[0m\u001b[1;33m.\u001b[0m\u001b[0mreshape\u001b[0m\u001b[1;33m(\u001b[0m\u001b[1;36m246082\u001b[0m\u001b[1;33m,\u001b[0m \u001b[1;36m28\u001b[0m\u001b[1;33m,\u001b[0m \u001b[1;36m28\u001b[0m\u001b[1;33m)\u001b[0m\u001b[1;33m\u001b[0m\u001b[1;33m\u001b[0m\u001b[0m\n\u001b[0m\u001b[0;32m      4\u001b[0m \u001b[1;33m\u001b[0m\u001b[0m\n\u001b[0;32m      5\u001b[0m \u001b[0mdf\u001b[0m \u001b[1;33m=\u001b[0m \u001b[0mpd\u001b[0m\u001b[1;33m.\u001b[0m\u001b[0mread_csv\u001b[0m\u001b[1;33m(\u001b[0m\u001b[1;34m'y.txt'\u001b[0m\u001b[1;33m,\u001b[0m\u001b[0msep\u001b[0m\u001b[1;33m=\u001b[0m\u001b[1;34m\"\\r\\n\"\u001b[0m\u001b[1;33m)\u001b[0m\u001b[1;33m\u001b[0m\u001b[1;33m\u001b[0m\u001b[0m\n",
      "\u001b[1;32md:\\changeface\\miniconda\\lib\\site-packages\\numpy\\lib\\npyio.py\u001b[0m in \u001b[0;36mloadtxt\u001b[1;34m(fname, dtype, comments, delimiter, converters, skiprows, usecols, unpack, ndmin, encoding, max_rows, like)\u001b[0m\n\u001b[0;32m   1171\u001b[0m                 \u001b[0mpos\u001b[0m \u001b[1;33m=\u001b[0m \u001b[0mnshape\u001b[0m\u001b[1;33m[\u001b[0m\u001b[1;36m0\u001b[0m\u001b[1;33m]\u001b[0m\u001b[1;33m\u001b[0m\u001b[1;33m\u001b[0m\u001b[0m\n\u001b[0;32m   1172\u001b[0m                 \u001b[0mnshape\u001b[0m\u001b[1;33m[\u001b[0m\u001b[1;36m0\u001b[0m\u001b[1;33m]\u001b[0m \u001b[1;33m+=\u001b[0m \u001b[0mlen\u001b[0m\u001b[1;33m(\u001b[0m\u001b[0mchunk\u001b[0m\u001b[1;33m)\u001b[0m\u001b[1;33m\u001b[0m\u001b[1;33m\u001b[0m\u001b[0m\n\u001b[1;32m-> 1173\u001b[1;33m                 \u001b[0mX\u001b[0m\u001b[1;33m.\u001b[0m\u001b[0mresize\u001b[0m\u001b[1;33m(\u001b[0m\u001b[0mnshape\u001b[0m\u001b[1;33m,\u001b[0m \u001b[0mrefcheck\u001b[0m\u001b[1;33m=\u001b[0m\u001b[1;32mFalse\u001b[0m\u001b[1;33m)\u001b[0m\u001b[1;33m\u001b[0m\u001b[1;33m\u001b[0m\u001b[0m\n\u001b[0m\u001b[0;32m   1174\u001b[0m                 \u001b[0mX\u001b[0m\u001b[1;33m[\u001b[0m\u001b[0mpos\u001b[0m\u001b[1;33m:\u001b[0m\u001b[1;33m,\u001b[0m \u001b[1;33m...\u001b[0m\u001b[1;33m]\u001b[0m \u001b[1;33m=\u001b[0m \u001b[0mchunk\u001b[0m\u001b[1;33m\u001b[0m\u001b[1;33m\u001b[0m\u001b[0m\n\u001b[0;32m   1175\u001b[0m \u001b[1;33m\u001b[0m\u001b[0m\n",
      "\u001b[1;31mMemoryError\u001b[0m: cannot allocate memory for array"
     ]
    }
   ],
   "source": [
    "import numpy as np\n",
    "import pandas as pd \n",
    "x = np.loadtxt(\"x.txt\").reshape(246082, 28, 28)\n",
    "\n",
    "df = pd.read_csv('y.txt',sep=\"\\r\\n\")\n",
    "y = np.array(df)"
   ]
  },
  {
   "cell_type": "code",
   "execution_count": null,
   "id": "pressing-petite",
   "metadata": {},
   "outputs": [],
   "source": [
    "print(x.shape, y.shape)"
   ]
  },
  {
   "cell_type": "code",
   "execution_count": null,
   "id": "interim-given",
   "metadata": {},
   "outputs": [],
   "source": [
    "# Создание нейросети: 1. Импорт Библиотек\n",
    "import os\n",
    "os.environ[\"CUDA_VISIBLE_DEVICES\"]=\"-1\"\n",
    "import numpy as np # linear algebra\n",
    "import pandas as pd # data processing, CSV file I/O (e.g. pd.read_csv)\n",
    "import matplotlib.pyplot as plt  # построение графиков\n",
    "import matplotlib.image as mpimg  #  вывод изображений cv2 формата\n",
    "\n",
    "import cv2  # считывание и обработка изображений\n",
    "import seaborn as sns  # график-гистограмма количества элементов\n",
    "from keras.utils.np_utils import to_categorical # перевод числа в вектор\n",
    "from keras.models import Sequential  # конструктор нейросети\n",
    "from keras.layers import Dense, Dropout, Flatten, Conv2D, MaxPool2D, Input, Activation # слои, функции активации, свёртки\n",
    "from tensorflow.keras.optimizers import RMSprop, Adam  #  оптимизаторы\n",
    "from keras.preprocessing.image import ImageDataGenerator  #генератор для увеличения обуч набора\n",
    "from keras.callbacks import ReduceLROnPlateau  # контроль LearningRate\n",
    "import keras # Базовый класс\n",
    "import tensorflow as tf\n",
    "from tensorflow.keras.regularizers import l2\n",
    "from tensorflow.keras.initializers import glorot_uniform\n",
    "from tensorflow.keras.callbacks import LearningRateScheduler, ModelCheckpoint\n"
   ]
  },
  {
   "cell_type": "code",
   "execution_count": null,
   "id": "representative-exhibition",
   "metadata": {},
   "outputs": [],
   "source": [
    "# делим на тестовый и тренировочный наборы 1 к 20\n",
    "x_test, y_test = x[::20], y[::20]\n",
    "\n",
    "x_train= np.array([item for index, item in enumerate(x) if (index) % 20 != 0])\n",
    "y_train= np.array([item for index, item in enumerate(y.reshape(len(y))) if (index) % 20 != 0])\n",
    "print(x_train.shape, y_train.shape)\n",
    "\n",
    "# нормализация\n",
    "x_train = np.array(x_train)/255\n",
    "x_test = np.array(x_test)/255"
   ]
  },
  {
   "cell_type": "code",
   "execution_count": 5,
   "id": "stock-conditioning",
   "metadata": {},
   "outputs": [
    {
     "name": "stderr",
     "output_type": "stream",
     "text": [
      "d:\\changeface\\miniconda\\lib\\site-packages\\seaborn\\_decorators.py:36: FutureWarning: Pass the following variable as a keyword arg: x. From version 0.12, the only valid positional argument will be `data`, and passing other arguments without an explicit keyword will result in an error or misinterpretation.\n",
      "  warnings.warn(\n"
     ]
    },
    {
     "data": {
      "image/png": "[encoded data removed]",
      "text/plain": [
       "<Figure size 432x288 with 1 Axes>"
      ]
     },
     "metadata": {
      "needs_background": "light"
     },
     "output_type": "display_data"
    }
   ],
   "source": [
    "g = sns.countplot(y_train)\n",
    "sns.set(rc={'figure.figsize':(11.7,8.27)})\n",
    "#это оказалось большой проблемой в обучении, \n",
    "#нужно хоть немного уравнять пропорции иначе сеть\n",
    "# будет плохо обучаема"
   ]
  },
  {
   "cell_type": "code",
   "execution_count": null,
   "id": "basic-understanding",
   "metadata": {},
   "outputs": [],
   "source": [
    "from operator import itemgetter\n",
    "#enum_labels = [[index,item] for index, item in enumerate(sorted(list(set(y.reshape(len(y))))))]\n",
    "enum_labels = [[0, '!'], [1, '('], [2, ')'], [3, '+'], [4, ','], [5, '-'], [6, '0'], [7, '1'], [8, '2'], [9, '3'], [10, '4'], [11, '5'], [12, '6'], [13, '7'], [14, '8'], [15, '9'], [16, '='], [17, 'A'], [18, 'C'], [19, 'Delta'], [20, 'G'], [21, 'H'], [22, 'M'], [23, 'N'], [24, 'R'], [25, 'S'], [26, 'T'], [27, 'X'], [28, '['], [29, ']'], [30, 'alpha'], [31, 'ascii_124'], [32, 'b'], [33, 'beta'], [34, 'cos'], [35, 'd'], [36, 'div'], [37, 'e'], [38, 'exists'], [39, 'f'], [40, 'forall'], [41, 'forward_slash'], [42, 'gamma'], [43, 'geq'], [44, 'gt'], [45, 'i'], [46, 'in'], [47, 'infty'], [48, 'int'], [49, 'j'], [50, 'k'], [51, 'l'], [52, 'lambda'], [53, 'ldots'], [54, 'leq'], [55, 'lim'], [56, 'log'], [57, 'lt'], [58, 'mu'], [59, 'neq'], [60, 'o'], [61, 'p'], [62, 'phi'], [63, 'pi'], [64, 'pm'], [65, 'prime'], [66, 'q'], [67, 'rightarrow'], [68, 'sigma'], [69, 'sin'], [70, 'sqrt'], [71, 'sum'], [72, 'tan'], [73, 'theta'], [74, 'times'], [75, 'u'], [76, 'v'], [77, 'w'], [78, 'y'], [79, 'z'], [80, '{'], [81, '}']]\n",
    "def label_to_num(label,enum_labels):\n",
    "    for i in enum_labels:\n",
    "        if i[1] == label:\n",
    "            return i[0]\n",
    "\n",
    "print(enum_labels) # перевод из подписей в нумерацию для нейросети"
   ]
  },
  {
   "cell_type": "code",
   "execution_count": null,
   "id": "dimensional-speaking",
   "metadata": {},
   "outputs": [],
   "source": [
    "#сопоставляем значению номер выхода в нейросети\n",
    "y_train = [label_to_num(label,enum_labels) for label in np.array(y_train).reshape(len(y_train))]\n",
    "y_test = [label_to_num(label,enum_labels) for label in np.array(y_test).reshape(len(y_test))]\n",
    "# перевод в вектор [0....0,1,0...]\n",
    "y_train = to_categorical(y_train, num_classes = len(enum_labels))\n",
    "y_test = to_categorical(y_test, num_classes = len(enum_labels))"
   ]
  },
  {
   "cell_type": "code",
   "execution_count": null,
   "id": "greater-recognition",
   "metadata": {},
   "outputs": [],
   "source": [
    "# 1 вариант структуры нейросети \n",
    "# input->[conv->activ->pool->]*3->flat->fc1->fc2->fc3->out\n",
    "#optimizer Adam\n",
    "def math_symbol_and_digits_recognition(input_shape=(28, 28, 1)):\n",
    "    regularizer = l2(0.01)\n",
    "    model = Sequential()\n",
    "    model.add(Input(shape=input_shape))\n",
    "    model.add(Conv2D(32, (3, 3), strides=(1, 1), padding='same', \n",
    "                     kernel_initializer=glorot_uniform(seed=0), \n",
    "                     name='conv1', activity_regularizer=regularizer))\n",
    "    model.add(Activation(activation='relu', name='act1'))\n",
    "    model.add(MaxPool2D((2, 2), strides=(2, 2)))\n",
    "    model.add(Conv2D(32, (3, 3), strides=(1, 1), padding='same', \n",
    "                     kernel_initializer=glorot_uniform(seed=0), \n",
    "                     name='conv2', activity_regularizer=regularizer))\n",
    "    model.add(Activation(activation='relu', name='act2'))\n",
    "    model.add(MaxPool2D((2, 2), strides=(2, 2)))\n",
    "    model.add(Conv2D(64, (3, 3), strides=(1, 1), padding='same', \n",
    "                     kernel_initializer=glorot_uniform(seed=0), \n",
    "                     name='conv3', activity_regularizer=regularizer))\n",
    "    model.add(Activation(activation='relu', name='act3'))\n",
    "    model.add(MaxPool2D((2, 2), strides=(2, 2)))\n",
    "    model.add(Flatten())\n",
    "    model.add(Dropout(0.5))\n",
    "    model.add(Dense(720, activation='relu', kernel_initializer=glorot_uniform(seed=0), name='fc1'))\n",
    "    model.add(Dense(504, activation='relu', kernel_initializer=glorot_uniform(seed=0), name='fc2'))\n",
    "    model.add(Dense(82, activation='softmax', kernel_initializer=glorot_uniform(seed=0), name='fc3'))\n",
    "    \n",
    "    optimizer = Adam()\n",
    "    model.compile(loss='categorical_crossentropy', optimizer=optimizer, metrics=['accuracy'])\n",
    "    return model\n",
    "\n",
    "model = math_symbol_and_digits_recognition(input_shape=(28, 28, 1))\n",
    "model.summary()\n",
    "\n",
    "\n",
    "def step_decay(epoch):\n",
    "    initial_learning_rate = 0.001\n",
    "    dropEvery = 10\n",
    "    factor = 0.5\n",
    "    lr = initial_learning_rate*(factor**np.floor((1 + epoch)/dropEvery))\n",
    "    return float(lr)\n",
    "\n",
    "checkpoint = ModelCheckpoint('Math_CNN_1_structure.h5', \n",
    "                             monitor='val_loss', save_best_only=True, \n",
    "                             verbose=1, mode='min')\n",
    "\n",
    "callbacks = [checkpoint, LearningRateScheduler(step_decay)]\n",
    "\n",
    "aug = ImageDataGenerator(zoom_range=0.1,\n",
    "                          rotation_range=5,\n",
    "                         width_shift_range=0.05,\n",
    "                         height_shift_range=0.05)\n"
   ]
  },
  {
   "cell_type": "code",
   "execution_count": 28,
   "id": "suitable-buying",
   "metadata": {},
   "outputs": [
    {
     "ename": "NameError",
     "evalue": "name 'x_train' is not defined",
     "output_type": "error",
     "traceback": [
      "\u001b[1;31m---------------------------------------------------------------------------\u001b[0m",
      "\u001b[1;31mNameError\u001b[0m                                 Traceback (most recent call last)",
      "\u001b[1;32m<ipython-input-28-6a1dbc6f1133>\u001b[0m in \u001b[0;36m<module>\u001b[1;34m\u001b[0m\n\u001b[0;32m      5\u001b[0m \u001b[1;31m# if len(x_train)>len(y_train):\u001b[0m\u001b[1;33m\u001b[0m\u001b[1;33m\u001b[0m\u001b[1;33m\u001b[0m\u001b[0m\n\u001b[0;32m      6\u001b[0m \u001b[1;31m#     x_train = x_train[:-1]\u001b[0m\u001b[1;33m\u001b[0m\u001b[1;33m\u001b[0m\u001b[1;33m\u001b[0m\u001b[0m\n\u001b[1;32m----> 7\u001b[1;33m hist = model.fit(aug.flow(x_train.reshape(len(x_train),28,28,1), y_train, batch_size=4096*2,shuffle=True),\n\u001b[0m\u001b[0;32m      8\u001b[0m                  \u001b[0mshuffle\u001b[0m\u001b[1;33m=\u001b[0m\u001b[1;32mTrue\u001b[0m\u001b[1;33m,\u001b[0m\u001b[1;33m\u001b[0m\u001b[1;33m\u001b[0m\u001b[0m\n\u001b[0;32m      9\u001b[0m                  \u001b[0mbatch_size\u001b[0m\u001b[1;33m=\u001b[0m\u001b[1;36m4096\u001b[0m\u001b[1;33m*\u001b[0m\u001b[1;36m2\u001b[0m\u001b[1;33m,\u001b[0m\u001b[1;33m\u001b[0m\u001b[1;33m\u001b[0m\u001b[0m\n",
      "\u001b[1;31mNameError\u001b[0m: name 'x_train' is not defined"
     ]
    }
   ],
   "source": [
    "#тренировка модели\n",
    "\n",
    "model = keras.models.load_model('Math_CNN_1_structure_Learned12H.h5')\n",
    "\n",
    "# if len(x_train)>len(y_train):\n",
    "#     x_train = x_train[:-1]\n",
    "hist = model.fit(aug.flow(x_train.reshape(len(x_train),28,28,1), y_train, batch_size=4096*2,shuffle=True),\n",
    "                 shuffle=True,\n",
    "                 batch_size=4096*2,\n",
    "                 epochs=1,\n",
    "                 validation_data=(x_test.reshape(len(x_test),28,28,1), y_test))\n",
    "\n",
    "#model.save('Math_CNN_1_structure_Learned12H.h5')"
   ]
  },
  {
   "cell_type": "code",
   "execution_count": null,
   "id": "center-showcase",
   "metadata": {},
   "outputs": [],
   "source": [
    "#предсказываем тестовый набор\n",
    "predictions = model.predict(x_test)\n",
    "\n",
    "for i in range(19):\n",
    "    result = np.argmax(predictions[i*500])\n",
    "    print(enum_labels[result][1])\n",
    "\n",
    "    plt.figure()\n",
    "    plt.imshow(x_test[i*500])\n",
    "    plt.colorbar()\n",
    "    plt.grid(False)"
   ]
  },
  {
   "cell_type": "code",
   "execution_count": 18,
   "id": "level-tiger",
   "metadata": {},
   "outputs": [],
   "source": [
    "# Извлекаем символы с изображения и переводим в матрицу\n",
    "def letters_extract(image_file: str, out_size=28):\n",
    "    img = cv2.imread(image_file)\n",
    "    gray = cv2.cvtColor(img, cv2.COLOR_BGR2GRAY)\n",
    "    ret, thresh = cv2.threshold(gray,0,255,cv2.THRESH_BINARY+cv2.THRESH_OTSU)\n",
    "    img_erode = cv2.erode(thresh, np.ones((3, 3), np.uint8), iterations=2)#1it\n",
    "\n",
    "    # Get contours\n",
    "    contours, hierarchy = cv2.findContours(img_erode, cv2.RETR_TREE, cv2.CHAIN_APPROX_NONE)\n",
    "    # plt.imshow(img)\n",
    "    output = img.copy()\n",
    "\n",
    "    letters = []\n",
    "    for idx, contour in enumerate(contours):\n",
    "        (x, y, w, h) = cv2.boundingRect(contour)\n",
    "        # print(\"R\", idx, x, y, w, h, cv2.contourArea(contour), hierarchy[0][idx])\n",
    "        # hierarchy[i][0]: the index of the next contour of the same level\n",
    "        # hierarchy[i][1]: the index of the previous contour of the same level\n",
    "        # hierarchy[i][2]: the index of the first child\n",
    "        # hierarchy[i][3]: the index of the parent\n",
    "        if hierarchy[0][idx][3] == 0:\n",
    "            cv2.rectangle(output, (x, y), (x + w, y + h), (70, 0, 0), 1)\n",
    "            letter_crop = gray[y:y + h, x:x + w]\n",
    "            # print(letter_crop.shape)\n",
    "\n",
    "            # Resize letter canvas to square\n",
    "            size_max = max(w, h)\n",
    "            letter_square = 255 * np.ones(shape=[size_max, size_max], dtype=np.uint8)\n",
    "            if w > h:\n",
    "                # Увеличиваем изображение всерху и снизу\n",
    "                # ------\n",
    "                # ======\n",
    "                # ------\n",
    "                y_pos = size_max//2 - h//2\n",
    "                letter_square[y_pos:y_pos + h, 0:w] = letter_crop\n",
    "            elif w < h:\n",
    "                # увеличиваем с боков\n",
    "                # --||--\n",
    "                x_pos = size_max//2 - w//2\n",
    "                letter_square[0:h, x_pos:x_pos + w] = letter_crop\n",
    "            else:\n",
    "                letter_square = letter_crop\n",
    "\n",
    "            # Resize letter to 28x28 and add letter and its X-coordinate\n",
    "            letters.append((x, w, cv2.resize(letter_square, (out_size, out_size), interpolation=cv2.INTER_AREA)))\n",
    "\n",
    "    # Sort array in place by X-coordinate\n",
    "    letters.sort(key=lambda x: x[0], reverse=False)\n",
    "\n",
    "    #cv2.imshow('image',img)\n",
    "    # cv2_imshow(thresh)\n",
    "    # cv2_imshow(img_erode)\n",
    "    #cv2.imshow('image',output)\n",
    "    #cv2.imshow('image',letters[0][2])\n",
    "    # cv2_imshow(letters[1][2])\n",
    "    # cv2_imshow(letters[2][2])\n",
    "    # cv2_imshow(letters[3][2])\n",
    "    # cv2_imshow(letters[4][2])\n",
    "\n",
    "    # cv2_imshow(letters[5][2])\n",
    "    # cv2_imshow(letters[6][2])\n",
    "    # cv2_imshow(letters[7][2])\n",
    "    # cv2_imshow(letters[8][2])\n",
    "    #cv2_imshow(letters[9][2])\n",
    "    #cv2.waitKey(0)\n",
    "    \n",
    "    \n",
    "    #by matplot lib\n",
    "    \n",
    "    # plt.imshow(img)\n",
    "    # plt.show()\n",
    "    plt.figure(figsize = (20,10))\n",
    "    plt.imshow(output)\n",
    "    # plt.show()\n",
    "    \n",
    "    # plt.imshow(thresh)\n",
    "    # plt.show()\n",
    "    \n",
    "    # plt.imshow(img_erode)\n",
    "    # plt.show()\n",
    "    # for i in range(len(letters)):\n",
    "    #     plt.imshow(letters[i][2])\n",
    "    #     plt.show()\n",
    " \n",
    "    return letters\n",
    "\n",
    "\n",
    "def emnist_predict_img(model, img,enum_labels):\n",
    "    # img = cv2.imread(img)\n",
    "    # img = cv2.resize(img,(28,28))\n",
    "    img = np.array(img)/255\n",
    "\n",
    "    img_arr = img.reshape(-1,28,28,1)\n",
    "\n",
    "    predict = model.predict(img_arr)\n",
    "    result = np.argmax(predict)\n",
    "    return enum_labels[result][1]"
   ]
  },
  {
   "cell_type": "code",
   "execution_count": 23,
   "id": "computational-delivery",
   "metadata": {},
   "outputs": [
    {
     "name": "stdout",
     "output_type": "stream",
     "text": [
      "sin\n",
      "=\n",
      "X\n",
      "-\n",
      "6\n",
      "sum\n",
      "u\n",
      "f\n",
      ",\n",
      ")\n",
      "log\n",
      "gamma\n",
      "sum\n",
      "times\n",
      "infty\n",
      "1\n",
      "2\n",
      "3\n",
      "8\n",
      "leq\n",
      "cos\n"
     ]
    },
    {
     "data": {
      "image/png": "[encoded data removed]",
      "text/plain": [
       "<Figure size 1440x720 with 1 Axes>"
      ]
     },
     "metadata": {
      "needs_background": "light"
     },
     "output_type": "display_data"
    }
   ],
   "source": [
    "#считываем с картинки\n",
    "for letter in letters_extract(\"math5.jpg\"):\n",
    "    print(emnist_predict_img(model,letter[2],enum_labels))"
   ]
  },
  {
   "cell_type": "code",
   "execution_count": 3,
   "id": "flying-natural",
   "metadata": {},
   "outputs": [],
   "source": [
    "#model = keras.models.load_model('Math_CNN_1_structure.h5')"
   ]
  },
  {
   "cell_type": "code",
   "execution_count": 20,
   "id": "frank-potter",
   "metadata": {},
   "outputs": [],
   "source": [
    "#перевод в язык latex:\n",
    "def photo_to_latex(im_path,model):\n",
    "    to_latex=[[0, '!'], [1, '('], [2, ')'], [3, '+'], [4, ','], [5, '-'], [6, '0'], [7, '1'], [8, '2'], [9, '3'], [10, '4'], [11, '5'], [12, '6'], [13, '7'], [14, '8'], [15, '9'], [16, '='], [17, 'A'], [18, 'C'], [19, '\\Delta'], [20, 'G'], [21, 'H'], [22, 'M'], [23, 'N'], [24, 'R'], [25, 'S'], [26, 'T'], [27, 'X'], [28, '['], [29, ']'], [30, '\\alpha'], [31, '\\char124'], [32, 'b'], [33, '\\beta'], [34, '\\cos'], [35, 'd'], [36, '\\div'], [37, 'e'], [38, '\\exists'], [39, 'f'], [40, '\\forall'], [41, '\\backslash'], [42, '\\gamma'], [43, '\\geq'], [44, '>'], [45, 'i'], [46, '\\in'], [47, '\\infty'], [48, '\\int'], [49, 'j'], [50, 'k'], [51, 'l'], [52, '\\lambda'], [53, '...'], [54, '\\leq'], [55, '\\lim'], [56, '\\log'], [57, '<'], [58, '\\mu'], [59, '\\neq'], [60, 'o'], [61, 'p'], [62, '\\phi'], [63, '\\pi'], [64, '\\pm'], [65, '\\prime'], [66, 'q'], [67, '\\Rightarrow'], [68, '\\sigma'], [69, '\\sin'], [70, '\\sqrt'], [71, '\\sum'], [72, '\\tan'], [73, '\\theta'], [74, '\\\\times'], [75, 'u'], [76, 'v'], [77, 'w'], [78, 'y'], [79, 'z'], [80, '{'], [81, '}']]\n",
    "    res = \"\"\n",
    "    for letter in letters_extract(im_path):\n",
    "        res += str(emnist_predict_img(model,letter[2],to_latex))+\" \"\n",
    "    return res"
   ]
  },
  {
   "cell_type": "code",
   "execution_count": 22,
   "id": "thrown-heating",
   "metadata": {},
   "outputs": [
    {
     "name": "stdout",
     "output_type": "stream",
     "text": [
      "\\sin = X - 6 \\sum u f , ) \\log \\gamma \\sum \\times \\infty 1 2 3 8 \\leq \\cos \n"
     ]
    },
    {
     "data": {
      "image/png": "[encoded data removed]",
      "text/plain": [
       "<Figure size 1440x720 with 1 Axes>"
      ]
     },
     "metadata": {
      "needs_background": "light"
     },
     "output_type": "display_data"
    }
   ],
   "source": [
    "res = photo_to_latex(\"math5.jpg\",model)\n",
    "print(res)"
   ]
  },
  {
   "cell_type": "code",
   "execution_count": 44,
   "id": "danish-balance",
   "metadata": {},
   "outputs": [
    {
     "data": {
      "text/plain": [
       "<matplotlib.image.AxesImage at 0x2b5ccfa16d0>"
      ]
     },
     "execution_count": 44,
     "metadata": {},
     "output_type": "execute_result"
    },
    {
     "data": {
      "image/png": "[encoded data removed]",
      "text/plain": [
       "<Figure size 842.4x595.44 with 1 Axes>"
      ]
     },
     "metadata": {},
     "output_type": "display_data"
    }
   ],
   "source": [
    "# попробуем варьировать толщину линий\n",
    "img = x_train[15000].reshape(28,28)\n",
    "\n",
    "plt.imshow(img)\n",
    "\n",
    "kernel = np.ones((4, 4), np.uint8)\n",
    "  \n",
    "img = cv2.erode(img, kernel) \n",
    "\n",
    "    # Get contours\n",
    "\n",
    "plt.imshow(img)"
   ]
  },
  {
   "cell_type": "code",
   "execution_count": null,
   "id": "comic-match",
   "metadata": {},
   "outputs": [],
   "source": []
  }
 ],
 "metadata": {
  "kernelspec": {
   "display_name": "Python 3",
   "language": "python",
   "name": "python3"
  },
  "language_info": {
   "codemirror_mode": {
    "name": "ipython",
    "version": 3
   },
   "file_extension": ".py",
   "mimetype": "text/x-python",
   "name": "python",
   "nbconvert_exporter": "python",
   "pygments_lexer": "ipython3",
   "version": "3.8.5"
  }
 },
 "nbformat": 4,
 "nbformat_minor": 5
}
