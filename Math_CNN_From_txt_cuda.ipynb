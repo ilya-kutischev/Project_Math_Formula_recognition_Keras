{
 "cells": [
  {
   "cell_type": "code",
   "execution_count": 2,
   "id": "surrounded-testing",
   "metadata": {},
   "outputs": [
    {
     "name": "stderr",
     "output_type": "stream",
     "text": [
      "<ipython-input-2-efccf7c967fd>:5: ParserWarning: Falling back to the 'python' engine because the 'c' engine does not support regex separators (separators > 1 char and different from '\\s+' are interpreted as regex); you can avoid this warning by specifying engine='python'.\n",
      "  df = pd.read_csv('y.txt',sep=\"\\r\\n\")\n"
     ]
    }
   ],
   "source": [
    "import numpy as np\n",
    "import pandas as pd \n",
    "x = np.loadtxt(\"x.txt\").reshape(246082, 28, 28)\n",
    "\n",
    "df = pd.read_csv('y.txt',sep=\"\\r\\n\")\n",
    "y = np.array(df)"
   ]
  },
  {
   "cell_type": "code",
   "execution_count": 3,
   "id": "pressing-petite",
   "metadata": {},
   "outputs": [
    {
     "name": "stdout",
     "output_type": "stream",
     "text": [
      "(246082, 28, 28) (246081, 1)\n"
     ]
    }
   ],
   "source": [
    "print(x.shape, y.shape)"
   ]
  },
  {
   "cell_type": "code",
   "execution_count": 4,
   "id": "interim-given",
   "metadata": {},
   "outputs": [
    {
     "name": "stdout",
     "output_type": "stream",
     "text": [
      "Num GPUs Available:  1\n"
     ]
    }
   ],
   "source": [
    "# Создание нейросети: 1. Импорт Библиотек\n",
    "import numpy as np # linear algebra\n",
    "import pandas as pd # data processing, CSV file I/O (e.g. pd.read_csv)\n",
    "import matplotlib.pyplot as plt  # построение графиков\n",
    "import matplotlib.image as mpimg  #  вывод изображений cv2 формата\n",
    "import os \n",
    "import cv2  # считывание и обработка изображений\n",
    "import seaborn as sns  # график-гистограмма количества элементов\n",
    "from keras.utils.np_utils import to_categorical # перевод числа в вектор\n",
    "from keras.models import Sequential  # конструктор нейросети\n",
    "from keras.layers import Dense, Dropout, Flatten, Conv2D, MaxPool2D, Input, Activation # слои, функции активации, свёртки\n",
    "from tensorflow.keras.optimizers import RMSprop, Adam  #  оптимизаторы\n",
    "from keras.preprocessing.image import ImageDataGenerator  #генератор для увеличения обуч набора\n",
    "from keras.callbacks import ReduceLROnPlateau  # контроль LearningRate\n",
    "import keras # Базовый класс\n",
    "import tensorflow as tf\n",
    "from tensorflow.keras.regularizers import l2\n",
    "from tensorflow.keras.initializers import glorot_uniform\n",
    "from tensorflow.keras.callbacks import LearningRateScheduler, ModelCheckpoint\n",
    "\n",
    "\n",
    "print(\"Num GPUs Available: \", len(tf.config.experimental.list_physical_devices('GPU')))\n",
    "\n",
    "\n",
    "config = tf.compat.v1.ConfigProto( device_count = {'GPU': 1 , 'CPU': 8} ) \n",
    "sess = tf.compat.v1.Session(config=config) \n",
    "keras.backend.set_session(sess)"
   ]
  },
  {
   "cell_type": "code",
   "execution_count": 5,
   "id": "representative-exhibition",
   "metadata": {},
   "outputs": [
    {
     "name": "stdout",
     "output_type": "stream",
     "text": [
      "(233777, 28, 28) (233776,)\n"
     ]
    }
   ],
   "source": [
    "# делим на тестовый и тренировочный наборы 1 к 20\n",
    "x_test, y_test = x[::20], y[::20]\n",
    "\n",
    "x_train= np.array([item for index, item in enumerate(x) if (index) % 20 != 0])\n",
    "y_train= np.array([item for index, item in enumerate(y.reshape(len(y))) if (index) % 20 != 0])\n",
    "print(x_train.shape, y_train.shape)\n",
    "\n",
    "\n",
    "# нормализация\n",
    "x_train = np.array(x_train)/255\n",
    "x_test = np.array(x_test)/255"
   ]
  },
  {
   "cell_type": "code",
   "execution_count": 6,
   "id": "stock-conditioning",
   "metadata": {},
   "outputs": [
    {
     "name": "stderr",
     "output_type": "stream",
     "text": [
      "d:\\changeface\\miniconda\\lib\\site-packages\\seaborn\\_decorators.py:36: FutureWarning: Pass the following variable as a keyword arg: x. From version 0.12, the only valid positional argument will be `data`, and passing other arguments without an explicit keyword will result in an error or misinterpretation.\n",
      "  warnings.warn(\n"
     ]
    },
    {
     "data": {
      "image/png": "[encoded data removed]",
      "text/plain": [
       "<Figure size 432x288 with 1 Axes>"
      ]
     },
     "metadata": {
      "needs_background": "light"
     },
     "output_type": "display_data"
    }
   ],
   "source": [
    "g = sns.countplot(y_train)\n",
    "sns.set(rc={'figure.figsize':(11.7,8.27)})\n",
    "#это оказалось большой проблемой в обучении, \n",
    "#нужно хоть немного уравнять пропорции иначе сеть\n",
    "# будет плохо обучаема"
   ]
  },
  {
   "cell_type": "code",
   "execution_count": 7,
   "id": "basic-understanding",
   "metadata": {},
   "outputs": [
    {
     "name": "stdout",
     "output_type": "stream",
     "text": [
      "[[0, '!'], [1, '('], [2, ')'], [3, '+'], [4, ','], [5, '-'], [6, '0'], [7, '1'], [8, '2'], [9, '3'], [10, '4'], [11, '5'], [12, '6'], [13, '7'], [14, '8'], [15, '9'], [16, '='], [17, 'A'], [18, 'C'], [19, 'Delta'], [20, 'G'], [21, 'H'], [22, 'M'], [23, 'N'], [24, 'R'], [25, 'S'], [26, 'T'], [27, 'X'], [28, '['], [29, ']'], [30, 'alpha'], [31, 'ascii_124'], [32, 'b'], [33, 'beta'], [34, 'cos'], [35, 'd'], [36, 'div'], [37, 'e'], [38, 'exists'], [39, 'f'], [40, 'forall'], [41, 'forward_slash'], [42, 'gamma'], [43, 'geq'], [44, 'gt'], [45, 'i'], [46, 'in'], [47, 'infty'], [48, 'int'], [49, 'j'], [50, 'k'], [51, 'l'], [52, 'lambda'], [53, 'ldots'], [54, 'leq'], [55, 'lim'], [56, 'log'], [57, 'lt'], [58, 'mu'], [59, 'neq'], [60, 'o'], [61, 'p'], [62, 'phi'], [63, 'pi'], [64, 'pm'], [65, 'prime'], [66, 'q'], [67, 'rightarrow'], [68, 'sigma'], [69, 'sin'], [70, 'sqrt'], [71, 'sum'], [72, 'tan'], [73, 'theta'], [74, 'times'], [75, 'u'], [76, 'v'], [77, 'w'], [78, 'y'], [79, 'z'], [80, '{'], [81, '}']]\n"
     ]
    }
   ],
   "source": [
    "from operator import itemgetter\n",
    "#enum_labels = [[index,item] for index, item in enumerate(sorted(list(set(y.reshape(len(y))))))]\n",
    "enum_labels = [[0, '!'], [1, '('], [2, ')'], [3, '+'], [4, ','], [5, '-'], [6, '0'], [7, '1'], [8, '2'], [9, '3'], [10, '4'], [11, '5'], [12, '6'], [13, '7'], [14, '8'], [15, '9'], [16, '='], [17, 'A'], [18, 'C'], [19, 'Delta'], [20, 'G'], [21, 'H'], [22, 'M'], [23, 'N'], [24, 'R'], [25, 'S'], [26, 'T'], [27, 'X'], [28, '['], [29, ']'], [30, 'alpha'], [31, 'ascii_124'], [32, 'b'], [33, 'beta'], [34, 'cos'], [35, 'd'], [36, 'div'], [37, 'e'], [38, 'exists'], [39, 'f'], [40, 'forall'], [41, 'forward_slash'], [42, 'gamma'], [43, 'geq'], [44, 'gt'], [45, 'i'], [46, 'in'], [47, 'infty'], [48, 'int'], [49, 'j'], [50, 'k'], [51, 'l'], [52, 'lambda'], [53, 'ldots'], [54, 'leq'], [55, 'lim'], [56, 'log'], [57, 'lt'], [58, 'mu'], [59, 'neq'], [60, 'o'], [61, 'p'], [62, 'phi'], [63, 'pi'], [64, 'pm'], [65, 'prime'], [66, 'q'], [67, 'rightarrow'], [68, 'sigma'], [69, 'sin'], [70, 'sqrt'], [71, 'sum'], [72, 'tan'], [73, 'theta'], [74, 'times'], [75, 'u'], [76, 'v'], [77, 'w'], [78, 'y'], [79, 'z'], [80, '{'], [81, '}']]\n",
    "def label_to_num(label,enum_labels):\n",
    "    for i in enum_labels:\n",
    "        if i[1] == label:\n",
    "            return i[0]\n",
    "\n",
    "print(enum_labels) # перевод из подписей в нумерацию для нейросети"
   ]
  },
  {
   "cell_type": "code",
   "execution_count": 8,
   "id": "dimensional-speaking",
   "metadata": {},
   "outputs": [],
   "source": [
    "#сопоставляем значению номер выхода в нейросети\n",
    "y_train = [label_to_num(label,enum_labels) for label in np.array(y_train).reshape(len(y_train))]\n",
    "y_test = [label_to_num(label,enum_labels) for label in np.array(y_test).reshape(len(y_test))]\n",
    "# перевод в вектор [0....0,1,0...]\n",
    "y_train = to_categorical(y_train, num_classes = len(enum_labels))\n",
    "y_test = to_categorical(y_test, num_classes = len(enum_labels))"
   ]
  },
  {
   "cell_type": "code",
   "execution_count": 9,
   "id": "greater-recognition",
   "metadata": {},
   "outputs": [
    {
     "name": "stdout",
     "output_type": "stream",
     "text": [
      "Model: \"sequential\"\n",
      "_________________________________________________________________\n",
      " Layer (type)                Output Shape              Param #   \n",
      "=================================================================\n",
      " conv1 (Conv2D)              (None, 28, 28, 32)        320       \n",
      "                                                                 \n",
      " act1 (Activation)           (None, 28, 28, 32)        0         \n",
      "                                                                 \n",
      " max_pooling2d (MaxPooling2D  (None, 14, 14, 32)       0         \n",
      " )                                                               \n",
      "                                                                 \n",
      " conv2 (Conv2D)              (None, 14, 14, 32)        9248      \n",
      "                                                                 \n",
      " act2 (Activation)           (None, 14, 14, 32)        0         \n",
      "                                                                 \n",
      " max_pooling2d_1 (MaxPooling  (None, 7, 7, 32)         0         \n",
      " 2D)                                                             \n",
      "                                                                 \n",
      " conv3 (Conv2D)              (None, 7, 7, 64)          18496     \n",
      "                                                                 \n",
      " act3 (Activation)           (None, 7, 7, 64)          0         \n",
      "                                                                 \n",
      " max_pooling2d_2 (MaxPooling  (None, 3, 3, 64)         0         \n",
      " 2D)                                                             \n",
      "                                                                 \n",
      " flatten (Flatten)           (None, 576)               0         \n",
      "                                                                 \n",
      " dropout (Dropout)           (None, 576)               0         \n",
      "                                                                 \n",
      " fc1 (Dense)                 (None, 720)               415440    \n",
      "                                                                 \n",
      " fc2 (Dense)                 (None, 504)               363384    \n",
      "                                                                 \n",
      " fc3 (Dense)                 (None, 82)                41410     \n",
      "                                                                 \n",
      "=================================================================\n",
      "Total params: 848,298\n",
      "Trainable params: 848,298\n",
      "Non-trainable params: 0\n",
      "_________________________________________________________________\n"
     ]
    }
   ],
   "source": [
    "# 1 вариант структуры нейросети \n",
    "# input->[conv->activ->pool->]*3->flat->fc1->fc2->fc3->out\n",
    "#optimizer Adam\n",
    "def math_symbol_and_digits_recognition(input_shape=(28, 28, 1)):\n",
    "    regularizer = l2(0.01)\n",
    "    model = Sequential()\n",
    "    model.add(Input(shape=input_shape))\n",
    "    model.add(Conv2D(32, (3, 3), strides=(1, 1), padding='same', \n",
    "                     kernel_initializer=glorot_uniform(seed=0), \n",
    "                     name='conv1', activity_regularizer=regularizer))\n",
    "    model.add(Activation(activation='relu', name='act1'))\n",
    "    model.add(MaxPool2D((2, 2), strides=(2, 2)))\n",
    "    model.add(Conv2D(32, (3, 3), strides=(1, 1), padding='same', \n",
    "                     kernel_initializer=glorot_uniform(seed=0), \n",
    "                     name='conv2', activity_regularizer=regularizer))\n",
    "    model.add(Activation(activation='relu', name='act2'))\n",
    "    model.add(MaxPool2D((2, 2), strides=(2, 2)))\n",
    "    model.add(Conv2D(64, (3, 3), strides=(1, 1), padding='same', \n",
    "                     kernel_initializer=glorot_uniform(seed=0), \n",
    "                     name='conv3', activity_regularizer=regularizer))\n",
    "    model.add(Activation(activation='relu', name='act3'))\n",
    "    model.add(MaxPool2D((2, 2), strides=(2, 2)))\n",
    "    model.add(Flatten())\n",
    "    model.add(Dropout(0.5))\n",
    "    model.add(Dense(720, activation='relu', kernel_initializer=glorot_uniform(seed=0), name='fc1'))\n",
    "    model.add(Dense(504, activation='relu', kernel_initializer=glorot_uniform(seed=0), name='fc2'))\n",
    "    model.add(Dense(82, activation='softmax', kernel_initializer=glorot_uniform(seed=0), name='fc3'))\n",
    "    \n",
    "    optimizer = Adam()\n",
    "    model.compile(loss='categorical_crossentropy', optimizer=optimizer, metrics=['accuracy'])\n",
    "    return model\n",
    "\n",
    "model = math_symbol_and_digits_recognition(input_shape=(28, 28, 1))\n",
    "model.summary()\n",
    "\n",
    "\n",
    "def step_decay(epoch):\n",
    "    initial_learning_rate = 0.001\n",
    "    dropEvery = 10\n",
    "    factor = 0.5\n",
    "    lr = initial_learning_rate*(factor**np.floor((1 + epoch)/dropEvery))\n",
    "    return float(lr)\n",
    "\n",
    "checkpoint = ModelCheckpoint('Math_CNN_cuda.h5', \n",
    "                             monitor='val_loss', save_best_only=True, \n",
    "                             verbose=1, mode='min')\n",
    "\n",
    "callbacks = [checkpoint, LearningRateScheduler(step_decay)]\n",
    "\n",
    "aug = ImageDataGenerator(zoom_range=0.1,\n",
    "#                          rotation_range=5,\n",
    "                         width_shift_range=0.05,\n",
    "                         height_shift_range=0.05)\n"
   ]
  },
  {
   "cell_type": "code",
   "execution_count": null,
   "id": "suitable-buying",
   "metadata": {},
   "outputs": [],
   "source": [
    "#тренировка модели\n",
    "\n",
    "#model = keras.models.load_model('Math_CNN_cuda.h5')\n",
    "\n",
    "if len(x_train)>len(y_train):\n",
    "    x_train = x_train[:-1]\n",
    "    \n",
    "hist = model.fit(aug.flow(x_train.reshape(len(x_train),28,28,1), y_train, batch_size=10,shuffle=True),\n",
    "                shuffle=True,\n",
    "                batch_size=10,\n",
    "                epochs=1,\n",
    "                validation_data=(x_test.reshape(len(x_test),28,28,1), y_test))\n",
    "\n",
    "model.save('Math_CNN_cuda.h5')"
   ]
  },
  {
   "cell_type": "code",
   "execution_count": null,
   "id": "center-showcase",
   "metadata": {},
   "outputs": [],
   "source": [
    "#предсказываем тестовый набор\n",
    "predictions = model.predict(x_test)\n",
    "\n",
    "for i in range(19):\n",
    "    result = np.argmax(predictions[i*500])\n",
    "    print(enum_labels[result][1])\n",
    "\n",
    "    plt.figure()\n",
    "    plt.imshow(x_test[i*500])\n",
    "    plt.colorbar()\n",
    "    plt.grid(False)"
   ]
  },
  {
   "cell_type": "code",
   "execution_count": 2,
   "id": "level-tiger",
   "metadata": {},
   "outputs": [],
   "source": [
    "# Извлекаем символы с изображения и переводим в матрицу\n",
    "def letters_extract(image_file: str, out_size=28):\n",
    "    img = cv2.imread(image_file)\n",
    "    gray = cv2.cvtColor(img, cv2.COLOR_BGR2GRAY)\n",
    "    ret, thresh = cv2.threshold(gray,0,255,cv2.THRESH_BINARY+cv2.THRESH_OTSU)\n",
    "    img_erode = cv2.erode(thresh, np.ones((3, 3), np.uint8), iterations=2)#1it\n",
    "\n",
    "    # Get contours\n",
    "    contours, hierarchy = cv2.findContours(img_erode, cv2.RETR_TREE, cv2.CHAIN_APPROX_NONE)\n",
    "    # plt.imshow(img)\n",
    "    output = img.copy()\n",
    "\n",
    "    letters = []\n",
    "    for idx, contour in enumerate(contours):\n",
    "        (x, y, w, h) = cv2.boundingRect(contour)\n",
    "        # print(\"R\", idx, x, y, w, h, cv2.contourArea(contour), hierarchy[0][idx])\n",
    "        # hierarchy[i][0]: the index of the next contour of the same level\n",
    "        # hierarchy[i][1]: the index of the previous contour of the same level\n",
    "        # hierarchy[i][2]: the index of the first child\n",
    "        # hierarchy[i][3]: the index of the parent\n",
    "        if hierarchy[0][idx][3] == 0:\n",
    "            cv2.rectangle(output, (x, y), (x + w, y + h), (70, 0, 0), 1)\n",
    "            letter_crop = gray[y:y + h, x:x + w]\n",
    "            # print(letter_crop.shape)\n",
    "\n",
    "            # Resize letter canvas to square\n",
    "            size_max = max(w, h)\n",
    "            letter_square = 255 * np.ones(shape=[size_max, size_max], dtype=np.uint8)\n",
    "            if w > h:\n",
    "                # Увеличиваем изображение всерху и снизу\n",
    "                # ------\n",
    "                # ======\n",
    "                # ------\n",
    "                y_pos = size_max//2 - h//2\n",
    "                letter_square[y_pos:y_pos + h, 0:w] = letter_crop\n",
    "            elif w < h:\n",
    "                # увеличиваем с боков\n",
    "                # --||--\n",
    "                x_pos = size_max//2 - w//2\n",
    "                letter_square[0:h, x_pos:x_pos + w] = letter_crop\n",
    "            else:\n",
    "                letter_square = letter_crop\n",
    "\n",
    "            # Resize letter to 28x28 and add letter and its X-coordinate\n",
    "            letters.append((x, w, cv2.resize(letter_square, (out_size, out_size), interpolation=cv2.INTER_AREA)))\n",
    "\n",
    "    # Sort array in place by X-coordinate\n",
    "    letters.sort(key=lambda x: x[0], reverse=False)\n",
    "\n",
    "    #cv2.imshow('image',img)\n",
    "    # cv2_imshow(thresh)\n",
    "    # cv2_imshow(img_erode)\n",
    "    #cv2.imshow('image',output)\n",
    "    #cv2.imshow('image',letters[0][2])\n",
    "    # cv2_imshow(letters[1][2])\n",
    "    # cv2_imshow(letters[2][2])\n",
    "    # cv2_imshow(letters[3][2])\n",
    "    # cv2_imshow(letters[4][2])\n",
    "\n",
    "    # cv2_imshow(letters[5][2])\n",
    "    # cv2_imshow(letters[6][2])\n",
    "    # cv2_imshow(letters[7][2])\n",
    "    # cv2_imshow(letters[8][2])\n",
    "    #cv2_imshow(letters[9][2])\n",
    "    #cv2.waitKey(0)\n",
    "    \n",
    "    \n",
    "    #by matplot lib\n",
    "    \n",
    "    # plt.imshow(img)\n",
    "    # plt.show()\n",
    "    \n",
    "    plt.imshow(output)\n",
    "    # plt.show()\n",
    "    \n",
    "    # plt.imshow(thresh)\n",
    "    # plt.show()\n",
    "    \n",
    "    # plt.imshow(img_erode)\n",
    "    # plt.show()\n",
    "    # for i in range(len(letters)):\n",
    "    #     plt.imshow(letters[i][2])\n",
    "    #     plt.show()\n",
    " \n",
    "    return letters\n",
    "\n",
    "\n",
    "def emnist_predict_img(model, img,enum_labels):\n",
    "    # img = cv2.imread(img)\n",
    "    # img = cv2.resize(img,(28,28))\n",
    "    img = np.array(img)/255\n",
    "\n",
    "    img_arr = img.reshape(-1,28,28,1)\n",
    "\n",
    "    predict = model.predict(img_arr)\n",
    "    result = np.argmax(predict)\n",
    "    return enum_labels[result][1]"
   ]
  },
  {
   "cell_type": "code",
   "execution_count": 6,
   "id": "computational-delivery",
   "metadata": {},
   "outputs": [
    {
     "name": "stdout",
     "output_type": "stream",
     "text": [
      "sin\n",
      "log\n",
      "=\n",
      "gamma\n",
      "X\n",
      "sum\n",
      "-\n",
      "times\n",
      "6\n",
      "infty\n",
      "sum\n",
      "1\n",
      "2\n",
      "d\n",
      "3\n",
      "8\n",
      "f\n",
      "leq\n",
      "forward_slash\n",
      "cos\n",
      ")\n"
     ]
    },
    {
     "data": {
      "image/png": "[encoded data removed]",
      "text/plain": [
       "<Figure size 432x288 with 1 Axes>"
      ]
     },
     "metadata": {
      "needs_background": "light"
     },
     "output_type": "display_data"
    }
   ],
   "source": [
    "#считываем с картинки\n",
    "for letter in letters_extract(\"math5.jpg\"):\n",
    "    print(emnist_predict_img(model,letter[2],enum_labels))"
   ]
  },
  {
   "cell_type": "code",
   "execution_count": 3,
   "id": "flying-natural",
   "metadata": {},
   "outputs": [],
   "source": [
    "model = keras.models.load_model('Math_CNN_1_structure.h5')"
   ]
  },
  {
   "cell_type": "code",
   "execution_count": 1,
   "id": "frank-potter",
   "metadata": {},
   "outputs": [
    {
     "ename": "AttributeError",
     "evalue": "module 'tensorflow' has no attribute 'random_uniform'",
     "output_type": "error",
     "traceback": [
      "\u001b[1;31m---------------------------------------------------------------------------\u001b[0m",
      "\u001b[1;31mAttributeError\u001b[0m                            Traceback (most recent call last)",
      "\u001b[1;32m<ipython-input-1-c42edab51543>\u001b[0m in \u001b[0;36m<module>\u001b[1;34m\u001b[0m\n\u001b[0;32m     12\u001b[0m \u001b[1;33m\u001b[0m\u001b[0m\n\u001b[0;32m     13\u001b[0m \u001b[1;32mwith\u001b[0m \u001b[0mtf\u001b[0m\u001b[1;33m.\u001b[0m\u001b[0mdevice\u001b[0m\u001b[1;33m(\u001b[0m\u001b[0mdevice_name\u001b[0m\u001b[1;33m)\u001b[0m\u001b[1;33m:\u001b[0m\u001b[1;33m\u001b[0m\u001b[1;33m\u001b[0m\u001b[0m\n\u001b[1;32m---> 14\u001b[1;33m     \u001b[0mrandom_matrix\u001b[0m \u001b[1;33m=\u001b[0m \u001b[0mtf\u001b[0m\u001b[1;33m.\u001b[0m\u001b[0mrandom_uniform\u001b[0m\u001b[1;33m(\u001b[0m\u001b[0mshape\u001b[0m\u001b[1;33m=\u001b[0m\u001b[0mshape\u001b[0m\u001b[1;33m,\u001b[0m \u001b[0mminval\u001b[0m\u001b[1;33m=\u001b[0m\u001b[1;36m0\u001b[0m\u001b[1;33m,\u001b[0m \u001b[0mmaxval\u001b[0m\u001b[1;33m=\u001b[0m\u001b[1;36m1\u001b[0m\u001b[1;33m)\u001b[0m\u001b[1;33m\u001b[0m\u001b[1;33m\u001b[0m\u001b[0m\n\u001b[0m\u001b[0;32m     15\u001b[0m     \u001b[0mdot_operation\u001b[0m \u001b[1;33m=\u001b[0m \u001b[0mtf\u001b[0m\u001b[1;33m.\u001b[0m\u001b[0mmatmul\u001b[0m\u001b[1;33m(\u001b[0m\u001b[0mrandom_matrix\u001b[0m\u001b[1;33m,\u001b[0m \u001b[0mtf\u001b[0m\u001b[1;33m.\u001b[0m\u001b[0mtranspose\u001b[0m\u001b[1;33m(\u001b[0m\u001b[0mrandom_matrix\u001b[0m\u001b[1;33m)\u001b[0m\u001b[1;33m)\u001b[0m\u001b[1;33m\u001b[0m\u001b[1;33m\u001b[0m\u001b[0m\n\u001b[0;32m     16\u001b[0m     \u001b[0msum_operation\u001b[0m \u001b[1;33m=\u001b[0m \u001b[0mtf\u001b[0m\u001b[1;33m.\u001b[0m\u001b[0mreduce_sum\u001b[0m\u001b[1;33m(\u001b[0m\u001b[0mdot_operation\u001b[0m\u001b[1;33m)\u001b[0m\u001b[1;33m\u001b[0m\u001b[1;33m\u001b[0m\u001b[0m\n",
      "\u001b[1;31mAttributeError\u001b[0m: module 'tensorflow' has no attribute 'random_uniform'"
     ]
    }
   ],
   "source": [
    "import sys\n",
    "import numpy as np\n",
    "import tensorflow as tf\n",
    "from datetime import datetime\n",
    "\n",
    "device_name = \"gpu\"\n",
    "shape = (10000, 10000)\n",
    "if device_name == \"gpu\":\n",
    "    device_name = \"/gpu:0\"\n",
    "else:\n",
    "    device_name = \"/cpu:0\"\n",
    "\n",
    "with tf.device(device_name):\n",
    "    random_matrix = tf.random_uniform(shape=shape, minval=0, maxval=1)\n",
    "    dot_operation = tf.matmul(random_matrix, tf.transpose(random_matrix))\n",
    "    sum_operation = tf.reduce_sum(dot_operation)\n",
    "\n",
    "startTime = datetime.now()\n",
    "with tf.Session(config=tf.ConfigProto(log_device_placement=True)) as session:\n",
    "        result = session.run(sum_operation)\n",
    "        print(result)\n",
    "\n",
    "### Print the shape, device name and timing\n",
    "print(\"\\n\" * 3)\n",
    "print(\"Shape:\", shape, \"Device:\", device_name)\n",
    "print(\"Time taken:\", datetime.now() - startTime)\n",
    "print(\"\\n\" * 3)"
   ]
  },
  {
   "cell_type": "code",
   "execution_count": 2,
   "id": "annual-canadian",
   "metadata": {},
   "outputs": [
    {
     "name": "stdout",
     "output_type": "stream",
     "text": [
      "Num GPUs Available:  1\n"
     ]
    }
   ],
   "source": [
    "print(\"Num GPUs Available: \", len(tf.config.experimental.list_physical_devices('GPU')))"
   ]
  },
  {
   "cell_type": "code",
   "execution_count": null,
   "id": "other-football",
   "metadata": {},
   "outputs": [],
   "source": []
  }
 ],
 "metadata": {
  "kernelspec": {
   "display_name": "Python 3",
   "language": "python",
   "name": "python3"
  },
  "language_info": {
   "codemirror_mode": {
    "name": "ipython",
    "version": 3
   },
   "file_extension": ".py",
   "mimetype": "text/x-python",
   "name": "python",
   "nbconvert_exporter": "python",
   "pygments_lexer": "ipython3",
   "version": "3.8.5"
  }
 },
 "nbformat": 4,
 "nbformat_minor": 5
}
